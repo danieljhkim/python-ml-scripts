{
 "cells": [
  {
   "cell_type": "code",
   "execution_count": 33,
   "id": "f36fd638",
   "metadata": {},
   "outputs": [],
   "source": [
    "import pandas as pd\n",
    "import numpy as np\n",
    "import matplotlib.pyplot as plt\n",
    "import requests\n",
    "import json\n",
    "from io import BytesIO\n",
    "%matplotlib inline"
   ]
  },
  {
   "cell_type": "code",
   "execution_count": 2,
   "id": "f2ff5abe",
   "metadata": {},
   "outputs": [],
   "source": [
    "api_url = 'https://api.coingecko.com/api/v3/coins/{}/market_chart?vs_currency=usd&days={}&interval=daily'\n",
    "headers={'Content-type':'text/plain'}"
   ]
  },
  {
   "cell_type": "code",
   "execution_count": 3,
   "id": "80d93452",
   "metadata": {},
   "outputs": [],
   "source": [
    "#global variables\n",
    "price_data = {}\n",
    "normalized_data = {}\n",
    "log_return = {}\n",
    "cryptos = []"
   ]
  },
  {
   "cell_type": "code",
   "execution_count": 20,
   "id": "bec222dd",
   "metadata": {},
   "outputs": [],
   "source": [
    "def get_crypto_data(coin, days):\n",
    "    json_url = api_url.format(coin, days)\n",
    "    resp = requests.get(json_url)\n",
    "    bjson = resp.json()\n",
    "    prices = bjson[\"prices\"]\n",
    "    df_price = pd.DataFrame(prices)  \n",
    "    df_price = df_price.rename({0: 'date', 1: 'price'}, axis=1)  # new method\n",
    "    df_price = df_price.set_index('date')\n",
    "    df_price.head();\n",
    "    return df_price"
   ]
  },
  {
   "cell_type": "code",
   "execution_count": 21,
   "id": "b04f1410",
   "metadata": {
    "scrolled": true
   },
   "outputs": [
    {
     "data": {
      "text/html": [
       "<div>\n",
       "<style scoped>\n",
       "    .dataframe tbody tr th:only-of-type {\n",
       "        vertical-align: middle;\n",
       "    }\n",
       "\n",
       "    .dataframe tbody tr th {\n",
       "        vertical-align: top;\n",
       "    }\n",
       "\n",
       "    .dataframe thead th {\n",
       "        text-align: right;\n",
       "    }\n",
       "</style>\n",
       "<table border=\"1\" class=\"dataframe\">\n",
       "  <thead>\n",
       "    <tr style=\"text-align: right;\">\n",
       "      <th></th>\n",
       "      <th>price</th>\n",
       "    </tr>\n",
       "    <tr>\n",
       "      <th>date</th>\n",
       "      <th></th>\n",
       "    </tr>\n",
       "  </thead>\n",
       "  <tbody>\n",
       "    <tr>\n",
       "      <th>1657411200000</th>\n",
       "      <td>21589.628101</td>\n",
       "    </tr>\n",
       "    <tr>\n",
       "      <th>1657497600000</th>\n",
       "      <td>20859.814080</td>\n",
       "    </tr>\n",
       "    <tr>\n",
       "      <th>1657584000000</th>\n",
       "      <td>19998.467840</td>\n",
       "    </tr>\n",
       "    <tr>\n",
       "      <th>1657670400000</th>\n",
       "      <td>19350.737350</td>\n",
       "    </tr>\n",
       "    <tr>\n",
       "      <th>1657756800000</th>\n",
       "      <td>20225.238664</td>\n",
       "    </tr>\n",
       "    <tr>\n",
       "      <th>...</th>\n",
       "      <td>...</td>\n",
       "    </tr>\n",
       "    <tr>\n",
       "      <th>1665705600000</th>\n",
       "      <td>19383.943220</td>\n",
       "    </tr>\n",
       "    <tr>\n",
       "      <th>1665792000000</th>\n",
       "      <td>19198.107145</td>\n",
       "    </tr>\n",
       "    <tr>\n",
       "      <th>1665878400000</th>\n",
       "      <td>19072.780513</td>\n",
       "    </tr>\n",
       "    <tr>\n",
       "      <th>1665964800000</th>\n",
       "      <td>19272.921848</td>\n",
       "    </tr>\n",
       "    <tr>\n",
       "      <th>1666024215000</th>\n",
       "      <td>19525.944708</td>\n",
       "    </tr>\n",
       "  </tbody>\n",
       "</table>\n",
       "<p>101 rows × 1 columns</p>\n",
       "</div>"
      ],
      "text/plain": [
       "                      price\n",
       "date                       \n",
       "1657411200000  21589.628101\n",
       "1657497600000  20859.814080\n",
       "1657584000000  19998.467840\n",
       "1657670400000  19350.737350\n",
       "1657756800000  20225.238664\n",
       "...                     ...\n",
       "1665705600000  19383.943220\n",
       "1665792000000  19198.107145\n",
       "1665878400000  19072.780513\n",
       "1665964800000  19272.921848\n",
       "1666024215000  19525.944708\n",
       "\n",
       "[101 rows x 1 columns]"
      ]
     },
     "execution_count": 21,
     "metadata": {},
     "output_type": "execute_result"
    }
   ],
   "source": [
    "##TEST\n",
    "get_crypto_data('bitcoin', 100)"
   ]
  },
  {
   "cell_type": "code",
   "execution_count": 22,
   "id": "4ec85b49",
   "metadata": {},
   "outputs": [],
   "source": [
    "def efficientFrontier(crypto, days):\n",
    "    global cryptos\n",
    "    cryptos = crypto\n",
    "    plotPriceComparison(crypto, days)"
   ]
  },
  {
   "cell_type": "code",
   "execution_count": 36,
   "id": "6bf7ae3d",
   "metadata": {},
   "outputs": [],
   "source": [
    "def sharpRatio():\n",
    "    global log_return\n",
    "    log_ret = log_return\n",
    "    global normalized_data\n",
    "    dfp = normalized_data\n",
    "    global cryptos\n",
    "    crypto = cryptos\n",
    "\n",
    "    log_ret.describe().transpose()\n",
    "    log_ret.mean() * 600\n",
    "    log_ret.cov()\n",
    "    num_ports = 3000\n",
    "    all_weights = np.zeros((num_ports,len(dfp.columns)))\n",
    "    ret_arr = np.zeros(num_ports)\n",
    "    vol_arr = np.zeros(num_ports)\n",
    "    sharpe_arr = np.zeros(num_ports)\n",
    "\n",
    "    for ind in range(num_ports):\n",
    "        # Create Random Weights\n",
    "        weights = np.array(np.random.random(len(dfp.columns)))\n",
    "        # Rebalance Weights\n",
    "        weights = weights / np.sum(weights)\n",
    "        # Save Weights\n",
    "        all_weights[ind,:] = weights\n",
    "        # Expected Return\n",
    "        ret_arr[ind] = np.sum((log_ret.mean() * weights) *365)\n",
    "        # Expected Variance\n",
    "        vol_arr[ind] = np.sqrt(np.dot(weights.T, np.dot(log_ret.cov() * 365, weights)))\n",
    "        # Sharpe Ratio\n",
    "        sharpe_arr[ind] = ret_arr[ind]/vol_arr[ind]\n",
    "    sharpe_arr.max()\n",
    "    sharpe_arr.argmax()\n",
    "\n",
    "    optimal_ratio = list(all_weights[sharpe_arr.argmax(),:])\n",
    "    optimal_portfolio = {}\n",
    "    i = 0\n",
    "    for coin in crypto:\n",
    "        optimal_portfolio[coin] = str(round(optimal_ratio[i] * 100)) + '%'\n",
    "        i += 1\n",
    "    print('optimal-portfolio', str(optimal_portfolio)) ######\n",
    "\n",
    "    max_sr_ret = ret_arr[sharpe_arr.argmax()]\n",
    "    max_sr_vol = vol_arr[sharpe_arr.argmax()]\n",
    "    maxiums = {}\n",
    "    maxiums['Max_SharpeRatio_Return'] = max_sr_ret\n",
    "    maxiums['Max_SharpeRatio_Volitility'] = max_sr_vol\n",
    "    print('maximum-perf', str(maxiums))######\n",
    "\n",
    "    fig, ax = plt.subplots(figsize=(7, 4))\n",
    "    plt.scatter(vol_arr,ret_arr,c=sharpe_arr,cmap='plasma')\n",
    "    plt.colorbar(label='Sharpe Ratio')\n",
    "    plt.xlabel('Volatility')\n",
    "    plt.ylabel('Return')\n",
    "    plt.title('Efficient Frontier: Sharpe Ratio')\n",
    "    plt.scatter(max_sr_vol, max_sr_ret, c='red', s=50, edgecolors='black')\n",
    "    print('sharp-ratio', fig) ######\n",
    "    figdata = BytesIO()\n",
    "    fig.savefig(figdata, format='png')\n",
    "    figdata.getvalue()\n"
   ]
  },
  {
   "cell_type": "code",
   "execution_count": 25,
   "id": "1591c392",
   "metadata": {},
   "outputs": [],
   "source": [
    "def plotPriceComparison(crypto, days):\n",
    "    crypto_data = {}\n",
    "    for coin in crypto:\n",
    "        crypto_price_df = get_crypto_data(coin, days)\n",
    "        crypto_data[coin] = crypto_price_df\n",
    "    dfp = pd.concat(crypto_data, axis=1)\n",
    "    dfp.columns = crypto\n",
    "\n",
    "    global price_data\n",
    "    price_data = dfp\n",
    "\n",
    "    global normalized_data\n",
    "    normalized_data = dfp/dfp.iloc[0]\n",
    "\n",
    "    crypto_daily_ret = dfp.pct_change(1)  # Daily return\n",
    "    log_ret = np.log(dfp/dfp.shift(1))  #Log return\n",
    "\n",
    "    global log_return \n",
    "    log_return = log_ret\n",
    "    sharpRatio()"
   ]
  },
  {
   "cell_type": "code",
   "execution_count": 37,
   "id": "a686ae51",
   "metadata": {},
   "outputs": [
    {
     "name": "stdout",
     "output_type": "stream",
     "text": [
      "optimal-portfolio {'bitcoin': '100%'}\n",
      "maximum-perf {'Max_SharpeRatio_Return': -0.46635504600530336, 'Max_SharpeRatio_Volitility': 0.6773530066393394}\n",
      "sharp-ratio Figure(504x288)\n"
     ]
    },
    {
     "data": {
      "image/png": "[encoded data removed]",
      "text/plain": [
       "<Figure size 504x288 with 2 Axes>"
      ]
     },
     "metadata": {
      "needs_background": "light"
     },
     "output_type": "display_data"
    }
   ],
   "source": [
    "efficientFrontier(['bitcoin'], 500)"
   ]
  },
  {
   "cell_type": "code",
   "execution_count": null,
   "id": "503e3701",
   "metadata": {},
   "outputs": [],
   "source": []
  }
 ],
 "metadata": {
  "kernelspec": {
   "display_name": "Python 3 (ipykernel)",
   "language": "python",
   "name": "python3"
  },
  "language_info": {
   "codemirror_mode": {
    "name": "ipython",
    "version": 3
   },
   "file_extension": ".py",
   "mimetype": "text/x-python",
   "name": "python",
   "nbconvert_exporter": "python",
   "pygments_lexer": "ipython3",
   "version": "3.9.12"
  }
 },
 "nbformat": 4,
 "nbformat_minor": 5
}
